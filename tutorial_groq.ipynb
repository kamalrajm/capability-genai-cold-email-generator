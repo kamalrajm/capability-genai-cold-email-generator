{
 "cells": [
  {
   "cell_type": "code",
   "execution_count": 5,
   "id": "05c606f8",
   "metadata": {},
   "outputs": [
    {
     "name": "stdout",
     "output_type": "stream",
     "text": [
      "The first person to land on the moon was Neil Armstrong. He stepped out of the lunar module Eagle and onto the moon's surface on July 20, 1969, during the Apollo 11 mission. Armstrong famously declared, \"That's one small step for man, one giant leap for mankind,\" as he became the first human to set foot on the moon.\n"
     ]
    }
   ],
   "source": [
    "from dotenv import load_dotenv\n",
    "from langchain_groq import ChatGroq\n",
    "import os\n",
    "\n",
    "# Load environment variables from the .env file\n",
    "load_dotenv('app\\.env')\n",
    "\n",
    "# Check if the GROQ_API_KEY is set\n",
    "groq_api_key = os.getenv('GROQ_API_KEY')\n",
    "if not groq_api_key:\n",
    "    raise ValueError(\"The GROQ_API_KEY environment variable is not set. Please set it in the app.env file.\")\n",
    "\n",
    "# Initialize the ChatGroq instance\n",
    "llm = ChatGroq(\n",
    "    temperature=0, \n",
    "    groq_api_key=groq_api_key, \n",
    "    model_name=\"llama-3.1-70b-versatile\"\n",
    ")\n",
    "\n",
    "# Invoke the model and print the response\n",
    "response = llm.invoke(\"The first person to land on moon was ...\")\n",
    "print(response.content)"
   ]
  },
  {
   "cell_type": "code",
   "execution_count": 1,
   "id": "0f76f97c",
   "metadata": {},
   "outputs": [
    {
     "name": "stdout",
     "output_type": "stream",
     "text": [
      "... Neil Armstrong!\n",
      "\n",
      "On July 20, 1969, Neil Armstrong became the first person to set foot on the Moon as part of the Apollo 11 mission. He famously declared, \"That's one small step for man, one giant leap for mankind\" as he stepped off the lunar module Eagle onto the Moon's surface.\n",
      "\n",
      "Would you like to know more about the Apollo 11 mission or Neil Armstrong's life?\n"
     ]
    }
   ],
   "source": [
    "# from langchain_groq import ChatGroq\n",
    "\n",
    "# llm = ChatGroq(\n",
    "#     temperature=0, \n",
    "#     groq_api_key='<add your API key here.>', \n",
    "#     model_name=\"llama-3.1-70b-versatile\"\n",
    "# )\n",
    "\n",
    "# response = llm.invoke(\"The first person to land on moon was ...\")\n",
    "# print(response.content)"
   ]
  }
 ],
 "metadata": {
  "kernelspec": {
   "display_name": "Python 3",
   "language": "python",
   "name": "python3"
  },
  "language_info": {
   "codemirror_mode": {
    "name": "ipython",
    "version": 3
   },
   "file_extension": ".py",
   "mimetype": "text/x-python",
   "name": "python",
   "nbconvert_exporter": "python",
   "pygments_lexer": "ipython3",
   "version": "3.11.3"
  }
 },
 "nbformat": 4,
 "nbformat_minor": 5
}
